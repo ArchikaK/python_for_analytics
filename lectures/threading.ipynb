{
 "cells": [
  {
   "cell_type": "code",
   "execution_count": null,
   "metadata": {},
   "outputs": [],
   "source": [
    "class KNN:\n",
    "    \n",
    "    def __init__(self, distance_metric):\n",
    "        self.distance_metric = distance_metric\n",
    "        \n",
    "    def dmatrix(self, data):\n",
    "        if self.distance_metric == \"euclidean\":\n",
    "            return cdist(data, data, self.distance_metric)\n",
    "        \n",
    "        else:\n",
    "            return cdist(data, data, self.distance_metric)\n",
    "        \n",
    "    def dmatrix2(self,data):\n",
    "        "
   ]
  },
  {
   "cell_type": "code",
   "execution_count": null,
   "metadata": {},
   "outputs": [],
   "source": []
  },
  {
   "cell_type": "code",
   "execution_count": null,
   "metadata": {},
   "outputs": [],
   "source": []
  },
  {
   "cell_type": "code",
   "execution_count": null,
   "metadata": {},
   "outputs": [],
   "source": []
  },
  {
   "cell_type": "markdown",
   "metadata": {},
   "source": [
    "## Threading vs. Multiprocessing"
   ]
  },
  {
   "cell_type": "markdown",
   "metadata": {},
   "source": [
    "* both get to the idea of parallel computing, doing things in concurrency\n",
    "* MP uses multiple processese at once\n",
    "* Threading uses multiple threads at once"
   ]
  },
  {
   "cell_type": "markdown",
   "metadata": {},
   "source": [
    "### What is a process?\n",
    "* part of a program being executed.  \n",
    "* has it's own memory space, storing instructions to run and memory needed for the task\n",
    "* when we use multiprocessing and divide up an iterable, each process stores it's piece of the iterable and any data needed to run the codee"
   ]
  },
  {
   "cell_type": "markdown",
   "metadata": {},
   "source": [
    "### What is a thread?\n",
    "* components of a process\n",
    "* can share memory space\n",
    "* variables declared can be shared among threads"
   ]
  },
  {
   "cell_type": "markdown",
   "metadata": {},
   "source": [
    "### Example\n",
    "* If we have MS Outlook at Word open at onces, they are running in difference processes.\n",
    "* But each can have multiple threads\n",
    "    * Word\n",
    "        * a thread to display type text\n",
    "        * a thread to capture the typed text\n",
    "        * a thread to auto save \n",
    "        * etc.\n",
    "    * Outlook\n",
    "        * a thread checking for new emails\n",
    "        * a thread displaying an open email draft\n",
    "        * a thread displaying inbox\n",
    "        * etc."
   ]
  },
  {
   "cell_type": "markdown",
   "metadata": {},
   "source": [
    "### Concerns\n",
    "* Race Condition\n",
    "    * What if multiple threads type to alter the same variable at the same time (since threads share memory)?  Need to apply locks (mutex - mutual exclusion locks) so the variable can only be altered by one thread at a time.\n",
    "* Starvation\n",
    "    * Thread can't get resources to execute it's tasks\n",
    "* Deadlock\n",
    "    * Thread is waiting for another thread to finish and release a lock\n",
    "* Livelock\n",
    "    * Thread keeps running in loop but doesn't make progress.  Maybe a mutex isn't released and it keeps waiting and waiting."
   ]
  },
  {
   "cell_type": "markdown",
   "metadata": {},
   "source": [
    "### When to usee which?\n",
    "* Multiprocessing - CPU intensive, doesn't have a lot of I/O to do.  Like random forest, that is a lot of processes, calculations to do to make those decision trees\n",
    "* Threading  - I/O intensive tasks, maybe scraping multiple web pages at once."
   ]
  },
  {
   "cell_type": "markdown",
   "metadata": {},
   "source": [
    "### Modules\n",
    "* multiprocessing\n",
    "* threading"
   ]
  },
  {
   "cell_type": "markdown",
   "metadata": {},
   "source": [
    "### Example of threading\n",
    "* Reading in raw data and storing  it in memory\n",
    "    * threading, as this is an I/O task, if we had multiple files in the folder\n",
    "    * note, pyspark when saving files, saves a \"part\" file for each executor\n",
    "* Doing computations\n",
    "    * multiprocessing\n",
    "* Storing the info to disk or a database\n",
    "    * threading, could be lots of I/O"
   ]
  },
  {
   "cell_type": "markdown",
   "metadata": {},
   "source": [
    "### Webscraping\n",
    "* this is a good threading task because much of the time wasted is waiting for the info to come over the network\n",
    "* what if your program is waiting for I/O bound tasks, reading data from a lot of different places\n",
    "* maybe you have to import 5 CSV files or even more\n",
    "* multiprocessing can also speed this up, but remember it doesn't share memory like threading"
   ]
  },
  {
   "cell_type": "code",
   "execution_count": 17,
   "metadata": {},
   "outputs": [],
   "source": [
    "import urllib.request\n",
    "from concurrent.futures import ThreadPoolExecutor"
   ]
  },
  {
   "cell_type": "code",
   "execution_count": 15,
   "metadata": {},
   "outputs": [],
   "source": [
    "urls = [\n",
    "  'http://www.python.org',\n",
    "  'https://docs.python.org/3/',\n",
    "  'https://docs.python.org/3/whatsnew/3.7.html',\n",
    "  'https://docs.python.org/3/tutorial/index.html',\n",
    "  'https://docs.python.org/3/library/index.html',\n",
    "  'https://docs.python.org/3/reference/index.html',\n",
    "  'https://docs.python.org/3/using/index.html',\n",
    "  'https://docs.python.org/3/howto/index.html',\n",
    "  'https://docs.python.org/3/installing/index.html',\n",
    "  'https://docs.python.org/3/distributing/index.html',\n",
    "  'https://docs.python.org/3/extending/index.html',\n",
    "  'https://docs.python.org/3/c-api/index.html',\n",
    "  'https://docs.python.org/3/faq/index.html'\n",
    "  ]"
   ]
  },
  {
   "cell_type": "code",
   "execution_count": 22,
   "metadata": {},
   "outputs": [
    {
     "name": "stdout",
     "output_type": "stream",
     "text": [
      "CPU times: user 159 ms, sys: 12.8 ms, total: 172 ms\n",
      "Wall time: 389 ms\n"
     ]
    }
   ],
   "source": [
    "%%time\n",
    "\n",
    "with ThreadPoolExecutor(4) as executor:\n",
    "    results = executor.map(urllib.request.urlopen, urls)"
   ]
  },
  {
   "cell_type": "code",
   "execution_count": 23,
   "metadata": {},
   "outputs": [
    {
     "name": "stdout",
     "output_type": "stream",
     "text": [
      "CPU times: user 146 ms, sys: 14 ms, total: 160 ms\n",
      "Wall time: 260 ms\n"
     ]
    }
   ],
   "source": [
    "%%time\n",
    "\n",
    "with ThreadPoolExecutor(8) as executor:\n",
    "    results = executor.map(urllib.request.urlopen, urls)"
   ]
  },
  {
   "cell_type": "code",
   "execution_count": 24,
   "metadata": {},
   "outputs": [
    {
     "name": "stdout",
     "output_type": "stream",
     "text": [
      "CPU times: user 133 ms, sys: 12.6 ms, total: 146 ms\n",
      "Wall time: 201 ms\n"
     ]
    }
   ],
   "source": [
    "%%time\n",
    "\n",
    "with ThreadPoolExecutor(12) as executor:\n",
    "    results = executor.map(urllib.request.urlopen, urls)"
   ]
  },
  {
   "cell_type": "code",
   "execution_count": null,
   "metadata": {},
   "outputs": [],
   "source": []
  }
 ],
 "metadata": {
  "kernelspec": {
   "display_name": "Python 3",
   "language": "python",
   "name": "python3"
  },
  "language_info": {
   "codemirror_mode": {
    "name": "ipython",
    "version": 3
   },
   "file_extension": ".py",
   "mimetype": "text/x-python",
   "name": "python",
   "nbconvert_exporter": "python",
   "pygments_lexer": "ipython3",
   "version": "3.7.4"
  }
 },
 "nbformat": 4,
 "nbformat_minor": 2
}
