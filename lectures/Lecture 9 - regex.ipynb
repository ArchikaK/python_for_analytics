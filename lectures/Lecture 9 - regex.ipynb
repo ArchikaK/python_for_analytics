{
 "cells": [
  {
   "cell_type": "code",
   "execution_count": 1,
   "metadata": {},
   "outputs": [],
   "source": [
    "import re # built into python"
   ]
  },
  {
   "cell_type": "markdown",
   "metadata": {},
   "source": [
    "* pattern to find sequences in strings\n",
    "* we can search, findall, sub and split\n",
    "    * what if we had an elaborate rule to split\n",
    "    * or wanted to clean text data using some rules\n",
    "    * or find occurences of some sequence\n",
    "* but we want the string search to be rulese based"
   ]
  },
  {
   "cell_type": "markdown",
   "metadata": {},
   "source": [
    "### Search"
   ]
  },
  {
   "cell_type": "markdown",
   "metadata": {},
   "source": [
    "* https://docs.python.org/3/library/re.html#re.search\n",
    "* Scan through string looking for the first location where the regular expression pattern produces a match, and return a corresponding match object\n",
    "* Return None if no position in the string matches the pattern\n",
    "* https://docs.python.org/3/library/re.html#match-objects"
   ]
  },
  {
   "cell_type": "code",
   "execution_count": 7,
   "metadata": {},
   "outputs": [
    {
     "name": "stdout",
     "output_type": "stream",
     "text": [
      "yes\n"
     ]
    }
   ],
   "source": [
    "if \"th\" in \"the\" or \"e\" in \"the\":\n",
    "    print(\"yes\")"
   ]
  },
  {
   "cell_type": "code",
   "execution_count": 8,
   "metadata": {},
   "outputs": [
    {
     "name": "stdout",
     "output_type": "stream",
     "text": [
      "0\n",
      "1\n",
      "t\n"
     ]
    }
   ],
   "source": [
    "expression = \"t\"\n",
    "results = re.search(expression, txt)\n",
    "print(results.span()[0]) # where thee pattern starts\n",
    "print(results.span()[1]) # where it ends\n",
    "print(txt[results.span()[0]:results.span()[1]]) # the matched pattern"
   ]
  },
  {
   "cell_type": "code",
   "execution_count": 11,
   "metadata": {},
   "outputs": [
    {
     "data": {
      "text/plain": [
       "(0, 1)"
      ]
     },
     "execution_count": 11,
     "metadata": {},
     "output_type": "execute_result"
    }
   ],
   "source": [
    "results.span()"
   ]
  },
  {
   "cell_type": "code",
   "execution_count": 13,
   "metadata": {},
   "outputs": [
    {
     "name": "stdout",
     "output_type": "stream",
     "text": [
      "13\n",
      "19\n",
      "sample\n"
     ]
    }
   ],
   "source": [
    "expression = \"sample\"\n",
    "results = re.search(expression, txt)\n",
    "print(results.span()[0]) # where thee pattern starts\n",
    "print(results.span()[1]) # where it ends\n",
    "print(txt[results.span()[0]:results.span()[1]]) # the matched pattern"
   ]
  },
  {
   "cell_type": "code",
   "execution_count": 15,
   "metadata": {},
   "outputs": [
    {
     "name": "stdout",
     "output_type": "stream",
     "text": [
      "20\n",
      "24\n",
      "text\n"
     ]
    }
   ],
   "source": [
    "expression = \"text\"\n",
    "results = re.search(expression, txt)\n",
    "print(results.span()[0]) # where thee pattern starts\n",
    "print(results.span()[1]) # where it ends\n",
    "print(txt[results.span()[0]:results.span()[1]]) # the matched pattern"
   ]
  },
  {
   "cell_type": "code",
   "execution_count": 16,
   "metadata": {},
   "outputs": [],
   "source": [
    "txt = \"this is some sample text\""
   ]
  },
  {
   "cell_type": "code",
   "execution_count": 17,
   "metadata": {},
   "outputs": [
    {
     "ename": "AttributeError",
     "evalue": "'NoneType' object has no attribute 'span'",
     "output_type": "error",
     "traceback": [
      "\u001b[0;31m---------------------------------------------------------------------------\u001b[0m",
      "\u001b[0;31mAttributeError\u001b[0m                            Traceback (most recent call last)",
      "\u001b[0;32m<ipython-input-17-ba75a388f6c3>\u001b[0m in \u001b[0;36m<module>\u001b[0;34m\u001b[0m\n\u001b[1;32m      1\u001b[0m \u001b[0mexpression\u001b[0m \u001b[0;34m=\u001b[0m \u001b[0;34m\"z\"\u001b[0m\u001b[0;34m\u001b[0m\u001b[0;34m\u001b[0m\u001b[0m\n\u001b[1;32m      2\u001b[0m \u001b[0mresults\u001b[0m \u001b[0;34m=\u001b[0m \u001b[0mre\u001b[0m\u001b[0;34m.\u001b[0m\u001b[0msearch\u001b[0m\u001b[0;34m(\u001b[0m\u001b[0mexpression\u001b[0m\u001b[0;34m,\u001b[0m \u001b[0mtxt\u001b[0m\u001b[0;34m)\u001b[0m\u001b[0;34m\u001b[0m\u001b[0;34m\u001b[0m\u001b[0m\n\u001b[0;32m----> 3\u001b[0;31m \u001b[0mprint\u001b[0m\u001b[0;34m(\u001b[0m\u001b[0mresults\u001b[0m\u001b[0;34m.\u001b[0m\u001b[0mspan\u001b[0m\u001b[0;34m(\u001b[0m\u001b[0;34m)\u001b[0m\u001b[0;34m[\u001b[0m\u001b[0;36m0\u001b[0m\u001b[0;34m]\u001b[0m\u001b[0;34m)\u001b[0m \u001b[0;31m# where thee pattern starts\u001b[0m\u001b[0;34m\u001b[0m\u001b[0;34m\u001b[0m\u001b[0m\n\u001b[0m\u001b[1;32m      4\u001b[0m \u001b[0mprint\u001b[0m\u001b[0;34m(\u001b[0m\u001b[0mresults\u001b[0m\u001b[0;34m.\u001b[0m\u001b[0mspan\u001b[0m\u001b[0;34m(\u001b[0m\u001b[0;34m)\u001b[0m\u001b[0;34m[\u001b[0m\u001b[0;36m1\u001b[0m\u001b[0;34m]\u001b[0m\u001b[0;34m)\u001b[0m \u001b[0;31m# where it ends\u001b[0m\u001b[0;34m\u001b[0m\u001b[0;34m\u001b[0m\u001b[0m\n\u001b[1;32m      5\u001b[0m \u001b[0mprint\u001b[0m\u001b[0;34m(\u001b[0m\u001b[0mtxt\u001b[0m\u001b[0;34m[\u001b[0m\u001b[0mresults\u001b[0m\u001b[0;34m.\u001b[0m\u001b[0mspan\u001b[0m\u001b[0;34m(\u001b[0m\u001b[0;34m)\u001b[0m\u001b[0;34m[\u001b[0m\u001b[0;36m0\u001b[0m\u001b[0;34m]\u001b[0m\u001b[0;34m:\u001b[0m\u001b[0mresults\u001b[0m\u001b[0;34m.\u001b[0m\u001b[0mspan\u001b[0m\u001b[0;34m(\u001b[0m\u001b[0;34m)\u001b[0m\u001b[0;34m[\u001b[0m\u001b[0;36m1\u001b[0m\u001b[0;34m]\u001b[0m\u001b[0;34m]\u001b[0m\u001b[0;34m)\u001b[0m \u001b[0;31m# the matched pattern\u001b[0m\u001b[0;34m\u001b[0m\u001b[0;34m\u001b[0m\u001b[0m\n",
      "\u001b[0;31mAttributeError\u001b[0m: 'NoneType' object has no attribute 'span'"
     ]
    }
   ],
   "source": [
    "expression = \"z\"\n",
    "results = re.search(expression, txt)\n",
    "print(results.span()[0]) # where thee pattern starts\n",
    "print(results.span()[1]) # where it ends\n",
    "print(txt[results.span()[0]:results.span()[1]]) # the matched pattern"
   ]
  },
  {
   "cell_type": "code",
   "execution_count": 18,
   "metadata": {},
   "outputs": [
    {
     "name": "stdout",
     "output_type": "stream",
     "text": [
      "no match\n"
     ]
    }
   ],
   "source": [
    "expression = \"z\"\n",
    "results = re.search(expression, txt)\n",
    "if results:\n",
    "    print(results)\n",
    "else:\n",
    "    print(\"no match\") # not really an error, since it ran, just didn't find a match"
   ]
  },
  {
   "cell_type": "markdown",
   "metadata": {},
   "source": [
    "### Match\n",
    "* match checks for a match only at the beginning of the string"
   ]
  },
  {
   "cell_type": "code",
   "execution_count": 19,
   "metadata": {},
   "outputs": [
    {
     "name": "stdout",
     "output_type": "stream",
     "text": [
      "0\n",
      "1\n",
      "t\n"
     ]
    }
   ],
   "source": [
    "txt = \"this is some sample text\"\n",
    "expression = \"t\"\n",
    "results = re.match(expression, txt)\n",
    "print(results.span()[0]) # where thee pattern starts\n",
    "print(results.span()[1]) # where it ends\n",
    "print(txt[results.span()[0]:results.span()[1]]) # the matched pattern"
   ]
  },
  {
   "cell_type": "code",
   "execution_count": 20,
   "metadata": {},
   "outputs": [
    {
     "name": "stdout",
     "output_type": "stream",
     "text": [
      "None\n"
     ]
    }
   ],
   "source": [
    "txt = \"this is some sample text\"\n",
    "expression = \"e\"\n",
    "results = re.match(expression, txt)\n",
    "print(results)"
   ]
  },
  {
   "cell_type": "markdown",
   "metadata": {},
   "source": [
    "### Find All\n",
    "* Return all non-overlapping matches of pattern in string, as a list of strings. The string is scanned left-to-right, and matches are returned in the order found. If one or more groups are present in the pattern, return a list of groups; this will be a list of tuples if the pattern has more than one group. Empty matches are included in the result."
   ]
  },
  {
   "cell_type": "code",
   "execution_count": 21,
   "metadata": {},
   "outputs": [],
   "source": [
    "txt = \"this is some sample text\""
   ]
  },
  {
   "cell_type": "code",
   "execution_count": 22,
   "metadata": {},
   "outputs": [
    {
     "data": {
      "text/plain": [
       "['te']"
      ]
     },
     "execution_count": 22,
     "metadata": {},
     "output_type": "execute_result"
    }
   ],
   "source": [
    "pattern = \"te\"\n",
    "results = re.findall(pattern, txt)\n",
    "results"
   ]
  },
  {
   "cell_type": "code",
   "execution_count": 23,
   "metadata": {},
   "outputs": [
    {
     "data": {
      "text/plain": [
       "['t', 't', 't']"
      ]
     },
     "execution_count": 23,
     "metadata": {},
     "output_type": "execute_result"
    }
   ],
   "source": [
    "pattern = \"t\"\n",
    "results = re.findall(pattern, txt)\n",
    "results"
   ]
  },
  {
   "cell_type": "code",
   "execution_count": 24,
   "metadata": {},
   "outputs": [
    {
     "data": {
      "text/plain": [
       "['s ', 's ']"
      ]
     },
     "execution_count": 24,
     "metadata": {},
     "output_type": "execute_result"
    }
   ],
   "source": [
    "pattern = \"s \"\n",
    "results = re.findall(pattern, txt)\n",
    "results"
   ]
  },
  {
   "cell_type": "markdown",
   "metadata": {},
   "source": [
    "### More Complex\n",
    "* [] (brackets) look for a set of characters"
   ]
  },
  {
   "cell_type": "code",
   "execution_count": 35,
   "metadata": {},
   "outputs": [
    {
     "data": {
      "text/plain": [
       "['t', 'h', 'o', 's', 's', 'o', 's', 'a', 't', 't']"
      ]
     },
     "execution_count": 35,
     "metadata": {},
     "output_type": "execute_result"
    }
   ],
   "source": [
    "# t,h or o is being looked for not \"tho\"\n",
    "pattern = r\"[satho]\"\n",
    "results = re.findall(pattern, txt)\n",
    "results"
   ]
  },
  {
   "cell_type": "code",
   "execution_count": 23,
   "metadata": {},
   "outputs": [
    {
     "data": {
      "text/plain": [
       "['tho']"
      ]
     },
     "execution_count": 23,
     "metadata": {},
     "output_type": "execute_result"
    }
   ],
   "source": [
    "# t,h or o is being looked for not \"tho\"\n",
    "pattern = r\"tho\"\n",
    "results = re.findall(pattern, txt)\n",
    "results"
   ]
  },
  {
   "cell_type": "code",
   "execution_count": 25,
   "metadata": {},
   "outputs": [],
   "source": [
    "txt = \"thois some sample text\""
   ]
  },
  {
   "cell_type": "code",
   "execution_count": 39,
   "metadata": {},
   "outputs": [
    {
     "data": {
      "text/plain": [
       "['o', 'i', 'o', 'e', 'a', 'e', 'e']"
      ]
     },
     "execution_count": 39,
     "metadata": {},
     "output_type": "execute_result"
    }
   ],
   "source": [
    "# set of characterse a-e alphabetical\n",
    "pattern = r\"[aeouiy]\"\n",
    "results = re.findall(pattern, txt)\n",
    "results"
   ]
  },
  {
   "cell_type": "markdown",
   "metadata": {},
   "source": [
    "* . is any character"
   ]
  },
  {
   "cell_type": "code",
   "execution_count": 42,
   "metadata": {},
   "outputs": [
    {
     "data": {
      "text/plain": [
       "['this', 'thes', 'thzs']"
      ]
     },
     "execution_count": 42,
     "metadata": {},
     "output_type": "execute_result"
    }
   ],
   "source": [
    "txt = \"this is some sample text is some thes, thzs\"\n",
    "pattern = r\"th.s\"\n",
    "results = re.findall(pattern, txt)\n",
    "results"
   ]
  },
  {
   "cell_type": "markdown",
   "metadata": {},
   "source": [
    "* ^ means starts with"
   ]
  },
  {
   "cell_type": "code",
   "execution_count": 49,
   "metadata": {},
   "outputs": [
    {
     "name": "stdout",
     "output_type": "stream",
     "text": [
      "['th', 'th', 'th']\n"
     ]
    }
   ],
   "source": [
    "txt = \"this is some sample text is some this, this\"\n",
    "pattern = r\"th\"\n",
    "results = re.findall(pattern, txt)\n",
    "print(results)\n",
    "#for t in txt.split(\" \"):\n",
    "#    results = re.findall(pattern, t)\n",
    "#    print(t, results)"
   ]
  },
  {
   "cell_type": "code",
   "execution_count": 44,
   "metadata": {},
   "outputs": [
    {
     "name": "stdout",
     "output_type": "stream",
     "text": [
      "['th']\n",
      "[]\n"
     ]
    }
   ],
   "source": [
    "txts = [\"this is some sample text is some this, this\",\n",
    "        \"his is some sample text is some this, this\"]\n",
    "\n",
    "pattern = r\"^th\"\n",
    "\n",
    "for txt in txts:\n",
    "    results = re.findall(pattern, txt)\n",
    "    print(results)"
   ]
  },
  {
   "cell_type": "code",
   "execution_count": 51,
   "metadata": {},
   "outputs": [
    {
     "data": {
      "text/plain": [
       "['this']"
      ]
     },
     "execution_count": 51,
     "metadata": {},
     "output_type": "execute_result"
    }
   ],
   "source": [
    "# treating the string as a whole, not looking at each word\n",
    "txt = \"this is some sample texth is some this, this\"\n",
    "pattern = r\"^this\"\n",
    "results = re.findall(pattern, txt)\n",
    "results"
   ]
  },
  {
   "cell_type": "code",
   "execution_count": 52,
   "metadata": {},
   "outputs": [
    {
     "data": {
      "text/plain": [
       "['this', 'is', 'some', 'sample', 'texth', 'is', 'some', 'this,', 'this']"
      ]
     },
     "execution_count": 52,
     "metadata": {},
     "output_type": "execute_result"
    }
   ],
   "source": [
    "txt.split(\" \")"
   ]
  },
  {
   "cell_type": "code",
   "execution_count": 30,
   "metadata": {},
   "outputs": [
    {
     "name": "stdout",
     "output_type": "stream",
     "text": [
      "this ['th']\n",
      "is []\n",
      "some []\n",
      "sample []\n",
      "texth []\n",
      "is []\n",
      "some []\n",
      "this, ['th']\n",
      "this ['th']\n"
     ]
    }
   ],
   "source": [
    "pattern = r\"^th\"\n",
    "for i in txt.split(\" \"):\n",
    "    results = re.findall(pattern, i)\n",
    "    print(i, results)"
   ]
  },
  {
   "cell_type": "code",
   "execution_count": 282,
   "metadata": {},
   "outputs": [
    {
     "name": "stdout",
     "output_type": "stream",
     "text": [
      "this ['th']\n",
      "is []\n",
      "some []\n",
      "sample []\n",
      "texth ['th']\n",
      "is []\n",
      "some []\n",
      "this, ['th']\n",
      "this ['th']\n"
     ]
    }
   ],
   "source": [
    "pattern = r\"th\"\n",
    "for i in txt.split(\" \"):\n",
    "    results = re.findall(pattern, i)\n",
    "    print(i, results)"
   ]
  },
  {
   "cell_type": "code",
   "execution_count": 31,
   "metadata": {},
   "outputs": [
    {
     "name": "stdout",
     "output_type": "stream",
     "text": [
      "this []\n",
      "is []\n",
      "some ['s']\n",
      "sample ['s']\n",
      "texth []\n",
      "is []\n",
      "some ['s']\n",
      "this, []\n",
      "this []\n"
     ]
    }
   ],
   "source": [
    "pattern = r\"^s\"\n",
    "for i in txt.split(\" \"):\n",
    "    results = re.findall(pattern, i)\n",
    "    print(i, results)"
   ]
  },
  {
   "cell_type": "markdown",
   "metadata": {},
   "source": [
    "* $ ends with"
   ]
  },
  {
   "cell_type": "code",
   "execution_count": 63,
   "metadata": {},
   "outputs": [
    {
     "name": "stdout",
     "output_type": "stream",
     "text": [
      "this ['is']\n",
      "is ['is']\n",
      "some []\n",
      "sample []\n",
      "text []\n",
      "is ['is']\n",
      "some []\n",
      "this, []\n",
      "this ['is']\n"
     ]
    }
   ],
   "source": [
    "pattern = r\"is$\"\n",
    "for i in txt.split(\" \"):\n",
    "    results = re.findall(pattern, i)\n",
    "    print(i, results)"
   ]
  },
  {
   "cell_type": "code",
   "execution_count": 38,
   "metadata": {},
   "outputs": [
    {
     "name": "stdout",
     "output_type": "stream",
     "text": [
      "this []\n",
      "is []\n",
      "some []\n",
      "sample []\n",
      "texth []\n",
      "is []\n",
      "some []\n",
      "this, []\n",
      "this []\n"
     ]
    }
   ],
   "source": [
    "# notice this finds nothing, want the dollar sign to be at the end\n",
    "pattern = r\"$th\"\n",
    "for i in txt.split(\" \"):\n",
    "    results = re.findall(pattern, i)\n",
    "    print(i, results)"
   ]
  },
  {
   "cell_type": "code",
   "execution_count": 58,
   "metadata": {},
   "outputs": [],
   "source": [
    "txt = \"this is some sample texth is some this, this\""
   ]
  },
  {
   "cell_type": "code",
   "execution_count": 59,
   "metadata": {},
   "outputs": [
    {
     "data": {
      "text/plain": [
       "[]"
      ]
     },
     "execution_count": 59,
     "metadata": {},
     "output_type": "execute_result"
    }
   ],
   "source": [
    "txt = \"this is some sample text is some this, this\"\n",
    "pattern = r\"$s\"\n",
    "results = re.findall(pattern, txt)\n",
    "results"
   ]
  },
  {
   "cell_type": "code",
   "execution_count": 40,
   "metadata": {},
   "outputs": [
    {
     "data": {
      "text/plain": [
       "['s']"
      ]
     },
     "execution_count": 40,
     "metadata": {},
     "output_type": "execute_result"
    }
   ],
   "source": [
    "# treating the string as a whole, not looking at each word\n",
    "txt = \"this is some sample text is some this, this\"\n",
    "pattern = r\"s$\"\n",
    "results = re.findall(pattern, txt)\n",
    "results"
   ]
  },
  {
   "cell_type": "code",
   "execution_count": 41,
   "metadata": {},
   "outputs": [
    {
     "name": "stdout",
     "output_type": "stream",
     "text": [
      "this ['s']\n",
      "is ['s']\n",
      "some []\n",
      "sample []\n",
      "text []\n",
      "is ['s']\n",
      "some []\n",
      "this, []\n",
      "this ['s']\n"
     ]
    }
   ],
   "source": [
    "pattern = r\"s$\"\n",
    "txt = \"this is some sample text is some this, this\"\n",
    "for i in txt.split(\" \"):\n",
    "    results = re.findall(pattern, i)\n",
    "    print(i, results)"
   ]
  },
  {
   "cell_type": "raw",
   "metadata": {},
   "source": [
    "* zero or more occurences"
   ]
  },
  {
   "cell_type": "code",
   "execution_count": 65,
   "metadata": {},
   "outputs": [
    {
     "data": {
      "text/plain": [
       "['this', 'ths']"
      ]
     },
     "execution_count": 65,
     "metadata": {},
     "output_type": "execute_result"
    }
   ],
   "source": [
    "txt = \"thiiiis is some sample text is some this, ths\"\n",
    "\n",
    "pattern = r\"thi*s\"\n",
    "results = re.findall(pattern, txt)\n",
    "results"
   ]
  },
  {
   "cell_type": "raw",
   "metadata": {},
   "source": [
    "+ one or more occurences"
   ]
  },
  {
   "cell_type": "code",
   "execution_count": 43,
   "metadata": {},
   "outputs": [
    {
     "data": {
      "text/plain": [
       "['thiiiis', 'this']"
      ]
     },
     "execution_count": 43,
     "metadata": {},
     "output_type": "execute_result"
    }
   ],
   "source": [
    "txt = \"thiiiis is some sample text is some this, ths\"\n",
    "\n",
    "pattern = r\"thi+s\"\n",
    "results = re.findall(pattern, txt)\n",
    "results"
   ]
  },
  {
   "cell_type": "raw",
   "metadata": {},
   "source": [
    "{ } exactly the specified number of occurences"
   ]
  },
  {
   "cell_type": "code",
   "execution_count": 50,
   "metadata": {},
   "outputs": [
    {
     "data": {
      "text/plain": [
       "['this']"
      ]
     },
     "execution_count": 50,
     "metadata": {},
     "output_type": "execute_result"
    }
   ],
   "source": [
    "txt = \"thiiiis is some sample text is some this, ths\"\n",
    "\n",
    "pattern = r\"thi{1}s\"\n",
    "results = re.findall(pattern, txt)\n",
    "results"
   ]
  },
  {
   "cell_type": "code",
   "execution_count": 51,
   "metadata": {},
   "outputs": [
    {
     "data": {
      "text/plain": [
       "['thiiiis']"
      ]
     },
     "execution_count": 51,
     "metadata": {},
     "output_type": "execute_result"
    }
   ],
   "source": [
    "txt = \"thiiiis is some sample text is some this, ths\"\n",
    "\n",
    "pattern = r\"thi{4}s\"\n",
    "results = re.findall(pattern, txt)\n",
    "results"
   ]
  },
  {
   "cell_type": "code",
   "execution_count": 52,
   "metadata": {},
   "outputs": [
    {
     "data": {
      "text/plain": [
       "['ths']"
      ]
     },
     "execution_count": 52,
     "metadata": {},
     "output_type": "execute_result"
    }
   ],
   "source": [
    "txt = \"thiiiis is some sample text is some this, ths\"\n",
    "\n",
    "pattern = r\"thi{0}s\"\n",
    "results = re.findall(pattern, txt)\n",
    "results"
   ]
  },
  {
   "cell_type": "code",
   "execution_count": 53,
   "metadata": {},
   "outputs": [
    {
     "data": {
      "text/plain": [
       "['thiiiis', 'thiis']"
      ]
     },
     "execution_count": 53,
     "metadata": {},
     "output_type": "execute_result"
    }
   ],
   "source": [
    "# match 2 or more of the preceding expression\n",
    "txt = \"thiiiis is some sample text is some thiis, this\"\n",
    "\n",
    "pattern = r\"thi{2,}s\"\n",
    "results = re.findall(pattern, txt)\n",
    "results"
   ]
  },
  {
   "cell_type": "code",
   "execution_count": 54,
   "metadata": {},
   "outputs": [
    {
     "data": {
      "text/plain": [
       "['thiis', 'thiiis', 'thiiiis']"
      ]
     },
     "execution_count": 54,
     "metadata": {},
     "output_type": "execute_result"
    }
   ],
   "source": [
    "# match 2 - 4 inclusive of preceding item\n",
    "txt = \"this, thiis, thiiis, thiiiis, thiiiiis\"\n",
    "\n",
    "pattern = r\"thi{2,4}s\"\n",
    "results = re.findall(pattern, txt)\n",
    "results"
   ]
  },
  {
   "cell_type": "raw",
   "metadata": {},
   "source": [
    "| or"
   ]
  },
  {
   "cell_type": "code",
   "execution_count": 70,
   "metadata": {},
   "outputs": [
    {
     "data": {
      "text/plain": [
       "['th', 'th', 'th', 'as']"
      ]
     },
     "execution_count": 70,
     "metadata": {},
     "output_type": "execute_result"
    }
   ],
   "source": [
    "txt = \"thiiiis is some sample text is some this, thas\"\n",
    "\n",
    "pattern = r\"th|as\"\n",
    "results = re.findall(pattern, txt)\n",
    "results"
   ]
  },
  {
   "cell_type": "raw",
   "metadata": {},
   "source": [
    "group ()\n",
    "notice we have two groups so we get tuples"
   ]
  },
  {
   "cell_type": "code",
   "execution_count": 73,
   "metadata": {},
   "outputs": [
    {
     "data": {
      "text/plain": [
       "[('this', ''), ('', 'that')]"
      ]
     },
     "execution_count": 73,
     "metadata": {},
     "output_type": "execute_result"
    }
   ],
   "source": [
    "txt = \"thiiiis is some sample text is some thisthat\"\n",
    "\n",
    "pattern = r\"(th.s)|(th.t)\"\n",
    "results = re.findall(pattern, txt)\n",
    "results"
   ]
  },
  {
   "cell_type": "code",
   "execution_count": 71,
   "metadata": {},
   "outputs": [
    {
     "data": {
      "text/plain": [
       "['this', 'that']"
      ]
     },
     "execution_count": 71,
     "metadata": {},
     "output_type": "execute_result"
    }
   ],
   "source": [
    "txt = \"thiiiis is some sample text is some this, that\"\n",
    "\n",
    "pattern = r\"th.s|th.t\"\n",
    "results = re.findall(pattern, txt)\n",
    "results"
   ]
  },
  {
   "cell_type": "code",
   "execution_count": 61,
   "metadata": {},
   "outputs": [
    {
     "data": {
      "text/plain": [
       "['is', 'is', 'is', 'this', 'that']"
      ]
     },
     "execution_count": 61,
     "metadata": {},
     "output_type": "execute_result"
    }
   ],
   "source": [
    "txt = \"thiiiis is some sample text is some this, that\"\n",
    "\n",
    "pattern = r\"th.s|th.t|is\"\n",
    "results = re.findall(pattern, txt)\n",
    "results"
   ]
  },
  {
   "cell_type": "code",
   "execution_count": 62,
   "metadata": {},
   "outputs": [
    {
     "data": {
      "text/plain": [
       "['thiiiis', 'is', 'is', 'this', 'that']"
      ]
     },
     "execution_count": 62,
     "metadata": {},
     "output_type": "execute_result"
    }
   ],
   "source": [
    "txt = \"thiiiis is some sample text is some this, that\"\n",
    "\n",
    "pattern = r\"thi+s|th.t|is\"\n",
    "results = re.findall(pattern, txt)\n",
    "results"
   ]
  },
  {
   "cell_type": "markdown",
   "metadata": {},
   "source": [
    "?"
   ]
  },
  {
   "cell_type": "code",
   "execution_count": 71,
   "metadata": {},
   "outputs": [
    {
     "data": {
      "text/plain": [
       "['thi', 'this']"
      ]
     },
     "execution_count": 71,
     "metadata": {},
     "output_type": "execute_result"
    }
   ],
   "source": [
    "txt = \"thiiiis is some sample text is some this, that\"\n",
    "# match thi or this, s is optional\n",
    "pattern = r\"this?\"\n",
    "results = re.findall(pattern, txt)\n",
    "results"
   ]
  },
  {
   "cell_type": "code",
   "execution_count": 72,
   "metadata": {},
   "outputs": [
    {
     "data": {
      "text/plain": [
       "['this', 'ths', 'ths']"
      ]
     },
     "execution_count": 72,
     "metadata": {},
     "output_type": "execute_result"
    }
   ],
   "source": [
    "txt = \"thiiiis is some sample text is some this, that, ths, ths\"\n",
    "pattern = r\"thi?s\"\n",
    "results = re.findall(pattern, txt)\n",
    "results"
   ]
  },
  {
   "cell_type": "code",
   "execution_count": 75,
   "metadata": {},
   "outputs": [
    {
     "data": {
      "text/plain": [
       "['thiiiis', 'this', 'ths', 'ths']"
      ]
     },
     "execution_count": 75,
     "metadata": {},
     "output_type": "execute_result"
    }
   ],
   "source": [
    "txt = \"thiiiis is some sample text is some this, that, ths, ths\"\n",
    "pattern = r\"thi{0,}s\"\n",
    "results = re.findall(pattern, txt)\n",
    "results"
   ]
  },
  {
   "cell_type": "code",
   "execution_count": 74,
   "metadata": {},
   "outputs": [
    {
     "data": {
      "text/plain": [
       "['thiiiis', 'this', 'ths', 'ths']"
      ]
     },
     "execution_count": 74,
     "metadata": {},
     "output_type": "execute_result"
    }
   ],
   "source": [
    "txt = \"thiiiis is some sample text is some this, that, ths, ths\"\n",
    "# match thi or this, s is optional\n",
    "pattern = r\"thi{0,}s\"\n",
    "results = re.findall(pattern, txt)\n",
    "results"
   ]
  },
  {
   "cell_type": "markdown",
   "metadata": {},
   "source": [
    "\\A match if the specified characters are at the beginning of the string"
   ]
  },
  {
   "cell_type": "code",
   "execution_count": 78,
   "metadata": {},
   "outputs": [
    {
     "data": {
      "text/plain": [
       "['t']"
      ]
     },
     "execution_count": 78,
     "metadata": {},
     "output_type": "execute_result"
    }
   ],
   "source": [
    "txt = \"thiiiis is some sample text is some this, that\"\n",
    "\n",
    "pattern = r\"\\At\"\n",
    "results = re.findall(pattern, txt)\n",
    "results"
   ]
  },
  {
   "cell_type": "code",
   "execution_count": 77,
   "metadata": {},
   "outputs": [
    {
     "data": {
      "text/plain": [
       "<re.Match object; span=(0, 1), match='t'>"
      ]
     },
     "execution_count": 77,
     "metadata": {},
     "output_type": "execute_result"
    }
   ],
   "source": [
    "txt = \"thiiiis is some sample text is some this, that\"\n",
    "\n",
    "pattern = r\"\\At\"\n",
    "results = re.search(pattern, txt)\n",
    "results"
   ]
  },
  {
   "cell_type": "code",
   "execution_count": 79,
   "metadata": {},
   "outputs": [
    {
     "data": {
      "text/plain": [
       "['t']"
      ]
     },
     "execution_count": 79,
     "metadata": {},
     "output_type": "execute_result"
    }
   ],
   "source": [
    "txt = \"thiiiis is some sample text is some this, that\"\n",
    "\n",
    "pattern = r\"\\At\"\n",
    "results = re.findall(pattern, txt)\n",
    "results"
   ]
  },
  {
   "cell_type": "code",
   "execution_count": 82,
   "metadata": {},
   "outputs": [
    {
     "data": {
      "text/plain": [
       "['brwwn']"
      ]
     },
     "execution_count": 82,
     "metadata": {},
     "output_type": "execute_result"
    }
   ],
   "source": [
    "txt = \"brwwn brian is some sample text is some this, that\"\n",
    "\n",
    "pattern = r\"\\Abr..n\"\n",
    "results = re.findall(pattern, txt)\n",
    "results"
   ]
  },
  {
   "cell_type": "raw",
   "metadata": {},
   "source": [
    "\\b characters are at the beginning or at the end of a word"
   ]
  },
  {
   "cell_type": "code",
   "execution_count": 89,
   "metadata": {},
   "outputs": [
    {
     "data": {
      "text/plain": [
       "['at']"
      ]
     },
     "execution_count": 89,
     "metadata": {},
     "output_type": "execute_result"
    }
   ],
   "source": [
    "txt = \"thiiiis is some sample text is some this, that\"\n",
    "\n",
    "# at end of word\n",
    "pattern = r\"at\\b\"\n",
    "results = re.findall(pattern, txt)\n",
    "results"
   ]
  },
  {
   "cell_type": "code",
   "execution_count": 333,
   "metadata": {},
   "outputs": [
    {
     "data": {
      "text/plain": [
       "<re.Match object; span=(26, 27), match='t'>"
      ]
     },
     "execution_count": 333,
     "metadata": {},
     "output_type": "execute_result"
    }
   ],
   "source": [
    "txt = \"thiiiis is some sample text is some this, that\"\n",
    "\n",
    "# at end of word\n",
    "pattern = r\"t\\b\"\n",
    "results = re.search(pattern, txt)\n",
    "results"
   ]
  },
  {
   "cell_type": "code",
   "execution_count": 313,
   "metadata": {},
   "outputs": [
    {
     "data": {
      "text/plain": [
       "['t', 't', 't', 't']"
      ]
     },
     "execution_count": 313,
     "metadata": {},
     "output_type": "execute_result"
    }
   ],
   "source": [
    "txt = \"thiiiis is some sample text is some this, tha\"\n",
    "\n",
    "# beginning of word\n",
    "pattern = r\"\\bt\"\n",
    "results = re.findall(pattern, txt)\n",
    "results"
   ]
  },
  {
   "cell_type": "code",
   "execution_count": 334,
   "metadata": {},
   "outputs": [
    {
     "data": {
      "text/plain": [
       "<re.Match object; span=(0, 1), match='t'>"
      ]
     },
     "execution_count": 334,
     "metadata": {},
     "output_type": "execute_result"
    }
   ],
   "source": [
    "txt = \"thiiiis is some sample text is some this, tha\"\n",
    "\n",
    "# beginning of word\n",
    "pattern = r\"\\bt\"\n",
    "results = re.search(pattern, txt)\n",
    "results"
   ]
  },
  {
   "cell_type": "raw",
   "metadata": {},
   "source": [
    "\\B characters are present, but NOT at the beginning or at the end of a word"
   ]
  },
  {
   "cell_type": "code",
   "execution_count": 321,
   "metadata": {},
   "outputs": [
    {
     "data": {
      "text/plain": [
       "['s', 's', 's', 's', 's']"
      ]
     },
     "execution_count": 321,
     "metadata": {},
     "output_type": "execute_result"
    }
   ],
   "source": [
    "txt = \"thissiiis is some sample text is some this, that\"\n",
    "\n",
    "# not at end\n",
    "pattern = r\"s\\B\"\n",
    "results = re.findall(pattern, txt)\n",
    "results"
   ]
  },
  {
   "cell_type": "code",
   "execution_count": 82,
   "metadata": {},
   "outputs": [
    {
     "data": {
      "text/plain": [
       "<re.Match object; span=(3, 4), match='s'>"
      ]
     },
     "execution_count": 82,
     "metadata": {},
     "output_type": "execute_result"
    }
   ],
   "source": [
    "txt = \"thissiiis is some sample text is some this, that\"\n",
    "\n",
    "# not at end\n",
    "pattern = r\"s\\B\"\n",
    "results = re.search(pattern, txt)\n",
    "results"
   ]
  },
  {
   "cell_type": "code",
   "execution_count": 83,
   "metadata": {},
   "outputs": [
    {
     "data": {
      "text/plain": [
       "<re.Match object; span=(0, 1), match='s'>"
      ]
     },
     "execution_count": 83,
     "metadata": {},
     "output_type": "execute_result"
    }
   ],
   "source": [
    "txt = \"shissiiis is some sample text is some this, that\"\n",
    "\n",
    "# not at end\n",
    "pattern = r\"s\\B\"\n",
    "results = re.search(pattern, txt)\n",
    "results"
   ]
  },
  {
   "cell_type": "code",
   "execution_count": 85,
   "metadata": {},
   "outputs": [
    {
     "data": {
      "text/plain": [
       "['s', 's', 's', 's', 's', 's']"
      ]
     },
     "execution_count": 85,
     "metadata": {},
     "output_type": "execute_result"
    }
   ],
   "source": [
    "txt = \"thissiiis is some sample text is some this, that\"\n",
    "\n",
    "# not at beginning\n",
    "pattern = r\"\\Bs\"\n",
    "results = re.findall(pattern, txt)\n",
    "results"
   ]
  },
  {
   "cell_type": "code",
   "execution_count": 340,
   "metadata": {},
   "outputs": [
    {
     "data": {
      "text/plain": [
       "<re.Match object; span=(3, 4), match='s'>"
      ]
     },
     "execution_count": 340,
     "metadata": {},
     "output_type": "execute_result"
    }
   ],
   "source": [
    "txt = \"thissiiis is some sample text is some this, that\"\n",
    "\n",
    "# not at beginning\n",
    "pattern = r\"\\Bs\"\n",
    "results = re.search(pattern, txt)\n",
    "results"
   ]
  },
  {
   "cell_type": "code",
   "execution_count": 86,
   "metadata": {},
   "outputs": [
    {
     "data": {
      "text/plain": [
       "<re.Match object; span=(1, 2), match='s'>"
      ]
     },
     "execution_count": 86,
     "metadata": {},
     "output_type": "execute_result"
    }
   ],
   "source": [
    "txt = \"ts issiiis is some sample text is some this, that\"\n",
    "\n",
    "# not at beginning\n",
    "pattern = r\"\\Bs\"\n",
    "results = re.search(pattern, txt)\n",
    "results"
   ]
  },
  {
   "cell_type": "code",
   "execution_count": 91,
   "metadata": {},
   "outputs": [
    {
     "data": {
      "text/plain": [
       "[]"
      ]
     },
     "execution_count": 91,
     "metadata": {},
     "output_type": "execute_result"
    }
   ],
   "source": [
    "txt = \"thiiiis is some sample text is some this, that\"\n",
    "\n",
    "# not at end\n",
    "pattern = r\"me\\B\"\n",
    "results = re.findall(pattern, txt)\n",
    "results"
   ]
  },
  {
   "cell_type": "code",
   "execution_count": 349,
   "metadata": {},
   "outputs": [
    {
     "data": {
      "text/plain": [
       "<re.Match object; span=(11, 14), match='som'>"
      ]
     },
     "execution_count": 349,
     "metadata": {},
     "output_type": "execute_result"
    }
   ],
   "source": [
    "txt = \"thiiiis is some sample text is some this, that\"\n",
    "\n",
    "# not at end\n",
    "pattern = r\"som\\B\"\n",
    "results = re.search(pattern, txt)\n",
    "results"
   ]
  },
  {
   "cell_type": "code",
   "execution_count": 324,
   "metadata": {},
   "outputs": [],
   "source": [
    "# note \\b and \\B deal with words vs. the string as a whole"
   ]
  },
  {
   "cell_type": "raw",
   "metadata": {},
   "source": [
    "\\d digits (numbers from 0-9)"
   ]
  },
  {
   "cell_type": "code",
   "execution_count": 93,
   "metadata": {},
   "outputs": [
    {
     "data": {
      "text/plain": [
       "['554', '221', '124', '21']"
      ]
     },
     "execution_count": 93,
     "metadata": {},
     "output_type": "execute_result"
    }
   ],
   "source": [
    "txt = \"thiiiis is some554 sample221 text124 is some21 this, that\"\n",
    "\n",
    "pattern = r\"\\d+\"\n",
    "results = re.findall(pattern, txt)\n",
    "results"
   ]
  },
  {
   "cell_type": "code",
   "execution_count": 89,
   "metadata": {},
   "outputs": [
    {
     "data": {
      "text/plain": [
       "<re.Match object; span=(15, 16), match='5'>"
      ]
     },
     "execution_count": 89,
     "metadata": {},
     "output_type": "execute_result"
    }
   ],
   "source": [
    "txt = \"thiiiis is some5 sample2 text1 is some2 this, that\"\n",
    "\n",
    "pattern = r\"\\d\"\n",
    "results = re.search(pattern, txt)\n",
    "results"
   ]
  },
  {
   "cell_type": "raw",
   "metadata": {},
   "source": [
    "\\D NOT contain digits"
   ]
  },
  {
   "cell_type": "code",
   "execution_count": 94,
   "metadata": {
    "scrolled": true
   },
   "outputs": [
    {
     "data": {
      "text/plain": [
       "['t',\n",
       " 'h',\n",
       " 'i',\n",
       " 'i',\n",
       " 'i',\n",
       " 'i',\n",
       " 's',\n",
       " ' ',\n",
       " 'i',\n",
       " 's',\n",
       " ' ',\n",
       " 's',\n",
       " 'o',\n",
       " 'm',\n",
       " 'e',\n",
       " ' ',\n",
       " 's',\n",
       " 'a',\n",
       " 'm',\n",
       " 'p',\n",
       " 'l',\n",
       " 'e',\n",
       " ' ',\n",
       " 't',\n",
       " 'e',\n",
       " 'x',\n",
       " 't',\n",
       " ' ',\n",
       " 'i',\n",
       " 's',\n",
       " ' ',\n",
       " 's',\n",
       " 'o',\n",
       " 'm',\n",
       " 'e',\n",
       " ' ',\n",
       " 't',\n",
       " 'h',\n",
       " 'i',\n",
       " 's',\n",
       " ',',\n",
       " ' ',\n",
       " 't',\n",
       " 'h',\n",
       " 'a',\n",
       " 't']"
      ]
     },
     "execution_count": 94,
     "metadata": {},
     "output_type": "execute_result"
    }
   ],
   "source": [
    "txt = \"thiiiis is some5 sample2 text1 is some2 this, that\"\n",
    "\n",
    "pattern = r\"\\D\"\n",
    "results = re.findall(pattern, txt)\n",
    "results"
   ]
  },
  {
   "cell_type": "code",
   "execution_count": 91,
   "metadata": {},
   "outputs": [
    {
     "data": {
      "text/plain": [
       "<re.Match object; span=(0, 1), match='t'>"
      ]
     },
     "execution_count": 91,
     "metadata": {},
     "output_type": "execute_result"
    }
   ],
   "source": [
    "txt = \"thiiiis is some5 sample2 text1 is some2 this, that\"\n",
    "\n",
    "pattern = r\"\\D\"\n",
    "results = re.search(pattern, txt)\n",
    "results"
   ]
  },
  {
   "cell_type": "raw",
   "metadata": {},
   "source": [
    "\\s the string contains a white space character"
   ]
  },
  {
   "cell_type": "code",
   "execution_count": 92,
   "metadata": {},
   "outputs": [
    {
     "data": {
      "text/plain": [
       "[' ', ' ', ' ']"
      ]
     },
     "execution_count": 92,
     "metadata": {},
     "output_type": "execute_result"
    }
   ],
   "source": [
    "# last one is doublee\n",
    "txt = \"thiiiisissome5 sample2text1issome2this,  that\"\n",
    "\n",
    "pattern = r\"\\s\"\n",
    "results = re.findall(pattern, txt)\n",
    "results"
   ]
  },
  {
   "cell_type": "code",
   "execution_count": 93,
   "metadata": {},
   "outputs": [
    {
     "data": {
      "text/plain": [
       "<re.Match object; span=(14, 15), match=' '>"
      ]
     },
     "execution_count": 93,
     "metadata": {},
     "output_type": "execute_result"
    }
   ],
   "source": [
    "# last one is doublee\n",
    "txt = \"thiiiisissome5 sample2text1issome2this,  that\"\n",
    "\n",
    "pattern = r\"\\s\"\n",
    "results = re.search(pattern, txt)\n",
    "results"
   ]
  },
  {
   "cell_type": "markdown",
   "metadata": {},
   "source": [
    "\\S not white spacee"
   ]
  },
  {
   "cell_type": "code",
   "execution_count": 94,
   "metadata": {
    "scrolled": true
   },
   "outputs": [
    {
     "data": {
      "text/plain": [
       "['t', 's', '1', '2']"
      ]
     },
     "execution_count": 94,
     "metadata": {},
     "output_type": "execute_result"
    }
   ],
   "source": [
    "# last one is doublee\n",
    "txt = \"t     s        1 2\"\n",
    "\n",
    "pattern = r\"\\S\"\n",
    "results = re.findall(pattern, txt)\n",
    "results"
   ]
  },
  {
   "cell_type": "code",
   "execution_count": 95,
   "metadata": {},
   "outputs": [
    {
     "data": {
      "text/plain": [
       "<re.Match object; span=(0, 1), match='t'>"
      ]
     },
     "execution_count": 95,
     "metadata": {},
     "output_type": "execute_result"
    }
   ],
   "source": [
    "# last one is doublee\n",
    "txt = \"t     s        1 2\"\n",
    "\n",
    "pattern = r\"\\S\"\n",
    "results = re.search(pattern, txt)\n",
    "results"
   ]
  },
  {
   "cell_type": "raw",
   "metadata": {},
   "source": [
    "\\w the string contains any word characters (characters from a to Z, digits from 0-9, and the underscore _ character)"
   ]
  },
  {
   "cell_type": "markdown",
   "metadata": {},
   "source": [
    "* https://regexr.com/"
   ]
  },
  {
   "cell_type": "code",
   "execution_count": 97,
   "metadata": {},
   "outputs": [
    {
     "data": {
      "text/plain": [
       "['a', 'b', 'c', '_', '1', '2', '3', 'A', 'B', 'C']"
      ]
     },
     "execution_count": 97,
     "metadata": {},
     "output_type": "execute_result"
    }
   ],
   "source": [
    "txt = \"abc _ 123 ? . , ABC\"\n",
    "\n",
    "pattern = r\"\\w\"\n",
    "results = re.findall(pattern, txt)\n",
    "results"
   ]
  },
  {
   "cell_type": "code",
   "execution_count": 100,
   "metadata": {},
   "outputs": [
    {
     "data": {
      "text/plain": [
       "['a', 'b', 'c', '_', '1', '2', '3', 'A', 'B', 'C']"
      ]
     },
     "execution_count": 100,
     "metadata": {},
     "output_type": "execute_result"
    }
   ],
   "source": [
    "txt = \"abc _ 123 ? . , ABC\"\n",
    "\n",
    "pattern = r\"[a-zA-Z_\\d]\"\n",
    "results = re.findall(pattern, txt)\n",
    "results"
   ]
  },
  {
   "cell_type": "code",
   "execution_count": 97,
   "metadata": {},
   "outputs": [
    {
     "data": {
      "text/plain": [
       "<re.Match object; span=(0, 1), match='a'>"
      ]
     },
     "execution_count": 97,
     "metadata": {},
     "output_type": "execute_result"
    }
   ],
   "source": [
    "txt = \"abc _ 123 ? . ,\"\n",
    "\n",
    "pattern = r\"\\w\"\n",
    "results = re.search(pattern, txt)\n",
    "results"
   ]
  },
  {
   "cell_type": "raw",
   "metadata": {},
   "source": [
    "\\W converse of \\W"
   ]
  },
  {
   "cell_type": "code",
   "execution_count": 98,
   "metadata": {},
   "outputs": [
    {
     "data": {
      "text/plain": [
       "[' ', ' ', ' ', '?', ' ', '.', ' ', ',']"
      ]
     },
     "execution_count": 98,
     "metadata": {},
     "output_type": "execute_result"
    }
   ],
   "source": [
    "txt = \"abc _ 123 ? . ,\"\n",
    "\n",
    "pattern = r\"\\W\"\n",
    "results = re.findall(pattern, txt)\n",
    "results"
   ]
  },
  {
   "cell_type": "raw",
   "metadata": {},
   "source": [
    "\\Z if the specified characters are at the end of the string"
   ]
  },
  {
   "cell_type": "code",
   "execution_count": 99,
   "metadata": {},
   "outputs": [
    {
     "data": {
      "text/plain": [
       "['t']"
      ]
     },
     "execution_count": 99,
     "metadata": {},
     "output_type": "execute_result"
    }
   ],
   "source": [
    "txt = \"heree is some text\"\n",
    "\n",
    "pattern = r\"t\\Z\"\n",
    "results = re.findall(pattern, txt)\n",
    "results"
   ]
  },
  {
   "cell_type": "code",
   "execution_count": 100,
   "metadata": {},
   "outputs": [
    {
     "data": {
      "text/plain": [
       "<re.Match object; span=(17, 18), match='t'>"
      ]
     },
     "execution_count": 100,
     "metadata": {},
     "output_type": "execute_result"
    }
   ],
   "source": [
    "txt = \"heree is some text\"\n",
    "\n",
    "pattern = r\"t\\Z\"\n",
    "results = re.search(pattern, txt)\n",
    "results"
   ]
  },
  {
   "cell_type": "code",
   "execution_count": 101,
   "metadata": {},
   "outputs": [
    {
     "data": {
      "text/plain": [
       "[]"
      ]
     },
     "execution_count": 101,
     "metadata": {},
     "output_type": "execute_result"
    }
   ],
   "source": [
    "txt = \"heree is some tex\"\n",
    "\n",
    "pattern = r\"e\\Z\"\n",
    "results = re.findall(pattern, txt)\n",
    "results"
   ]
  },
  {
   "cell_type": "raw",
   "metadata": {},
   "source": [
    "[] set notation"
   ]
  },
  {
   "cell_type": "code",
   "execution_count": 102,
   "metadata": {},
   "outputs": [
    {
     "data": {
      "text/plain": [
       "['e', 'r', 'e', 'e', 'r', 'e', 'e']"
      ]
     },
     "execution_count": 102,
     "metadata": {},
     "output_type": "execute_result"
    }
   ],
   "source": [
    "txt = \"here we aree\"\n",
    "\n",
    "# return e or r\n",
    "pattern = r\"[er]\"\n",
    "results = re.findall(pattern, txt)\n",
    "results"
   ]
  },
  {
   "cell_type": "code",
   "execution_count": 103,
   "metadata": {},
   "outputs": [
    {
     "data": {
      "text/plain": [
       "['e', 'e', 'e', 'a', 'e', 'e']"
      ]
     },
     "execution_count": 103,
     "metadata": {},
     "output_type": "execute_result"
    }
   ],
   "source": [
    "txt = \"here we aree\"\n",
    "\n",
    "# a-f letters\n",
    "pattern = r\"[a-f]\"\n",
    "results = re.findall(pattern, txt)\n",
    "results"
   ]
  },
  {
   "cell_type": "code",
   "execution_count": 104,
   "metadata": {},
   "outputs": [
    {
     "data": {
      "text/plain": [
       "['h', 'r', ' ', 'w', ' ', 'r']"
      ]
     },
     "execution_count": 104,
     "metadata": {},
     "output_type": "execute_result"
    }
   ],
   "source": [
    "txt = \"here we aree\"\n",
    "\n",
    "# characteres except a and e\n",
    "pattern = r\"[^ae]\"\n",
    "results = re.findall(pattern, txt)\n",
    "results"
   ]
  },
  {
   "cell_type": "code",
   "execution_count": 105,
   "metadata": {},
   "outputs": [
    {
     "data": {
      "text/plain": [
       "['H', 'r', ' ', 'W', ' ', 'A', 'r']"
      ]
     },
     "execution_count": 105,
     "metadata": {},
     "output_type": "execute_result"
    }
   ],
   "source": [
    "txt = \"Here Wee Are\"\n",
    "\n",
    "# characteres except a and e\n",
    "pattern = r\"[^ae]\"\n",
    "results = re.findall(pattern, txt)\n",
    "results"
   ]
  },
  {
   "cell_type": "code",
   "execution_count": 106,
   "metadata": {},
   "outputs": [
    {
     "data": {
      "text/plain": [
       "['1', '2', '3']"
      ]
     },
     "execution_count": 106,
     "metadata": {},
     "output_type": "execute_result"
    }
   ],
   "source": [
    "txt = \"here are some numbers 12345\"\n",
    "\n",
    "# find 1,2,3\n",
    "pattern = r\"[123]\"\n",
    "results = re.findall(pattern, txt)\n",
    "results"
   ]
  },
  {
   "cell_type": "code",
   "execution_count": 107,
   "metadata": {},
   "outputs": [
    {
     "data": {
      "text/plain": [
       "['1', '2', '3', '4']"
      ]
     },
     "execution_count": 107,
     "metadata": {},
     "output_type": "execute_result"
    }
   ],
   "source": [
    "txt = \"here are some numbers 12345\"\n",
    "\n",
    "# find 1-4 inclusive\n",
    "pattern = r\"[1-4]\"\n",
    "results = re.findall(pattern, txt)\n",
    "results"
   ]
  },
  {
   "cell_type": "markdown",
   "metadata": {},
   "source": [
    "### Split"
   ]
  },
  {
   "cell_type": "code",
   "execution_count": 101,
   "metadata": {},
   "outputs": [
    {
     "data": {
      "text/plain": [
       "['here', 'are', 'some', 'numbers', '12345']"
      ]
     },
     "execution_count": 101,
     "metadata": {},
     "output_type": "execute_result"
    }
   ],
   "source": [
    "txt = \"here are some numbers 12345\"\n",
    "\n",
    "# white space\n",
    "pattern = r\"\\s\"\n",
    "results = re.split(pattern, txt)\n",
    "results"
   ]
  },
  {
   "cell_type": "code",
   "execution_count": 106,
   "metadata": {},
   "outputs": [
    {
     "name": "stdout",
     "output_type": "stream",
     "text": [
      "Brian Craft\n",
      "Brianna Craft\n"
     ]
    }
   ],
   "source": [
    "txt = [\"Mr. Brian Craft\", \"Mrs. Brianna Craft\"]\n",
    "pattern = r\"\\s\"\n",
    "for i in txt:\n",
    "    # maxsplit tells how many splits to make\n",
    "    results = re.split(pattern, i, maxsplit = 1)\n",
    "    print(results[1])"
   ]
  },
  {
   "cell_type": "code",
   "execution_count": 110,
   "metadata": {},
   "outputs": [
    {
     "data": {
      "text/plain": [
       "['here', 'are', 'some numbers 12345']"
      ]
     },
     "execution_count": 110,
     "metadata": {},
     "output_type": "execute_result"
    }
   ],
   "source": [
    "txt = \"here are some numbers 12345\"\n",
    "\n",
    "# maxsplit tells how many splits to make\n",
    "pattern = r\"\\s\"\n",
    "results = re.split(pattern, txt, maxsplit = 2)\n",
    "results"
   ]
  },
  {
   "cell_type": "code",
   "execution_count": 111,
   "metadata": {},
   "outputs": [
    {
     "data": {
      "text/plain": [
       "['here', 'are', 'some', 'numbers 12345']"
      ]
     },
     "execution_count": 111,
     "metadata": {},
     "output_type": "execute_result"
    }
   ],
   "source": [
    "txt = \"here are some numbers 12345\"\n",
    "\n",
    "# maxsplit tells how many splits to make\n",
    "pattern = r\"\\s\"\n",
    "results = re.split(pattern, txt, maxsplit = 3)\n",
    "results"
   ]
  },
  {
   "cell_type": "markdown",
   "metadata": {},
   "source": [
    "### Sub"
   ]
  },
  {
   "cell_type": "code",
   "execution_count": 111,
   "metadata": {},
   "outputs": [
    {
     "data": {
      "text/plain": [
       "['12345']"
      ]
     },
     "execution_count": 111,
     "metadata": {},
     "output_type": "execute_result"
    }
   ],
   "source": [
    "txt = \"here are some numbers 12345\"\n",
    "\n",
    "# maxsplit tells how many splits to make\n",
    "pattern = r\"\\d+\"\n",
    "results = re.findall(pattern, txt)\n",
    "results"
   ]
  },
  {
   "cell_type": "code",
   "execution_count": 112,
   "metadata": {},
   "outputs": [
    {
     "data": {
      "text/plain": [
       "'here are some numbers NA '"
      ]
     },
     "execution_count": 112,
     "metadata": {},
     "output_type": "execute_result"
    }
   ],
   "source": [
    "txt = \"here are some numbers 12345\"\n",
    "\n",
    "# maxsplit tells how many splits to make\n",
    "pattern = r\"\\d+\"\n",
    "results = re.sub(pattern, \"NA \", txt)\n",
    "results"
   ]
  },
  {
   "cell_type": "code",
   "execution_count": 114,
   "metadata": {},
   "outputs": [
    {
     "data": {
      "text/plain": [
       "'here are some numbers NA 2345'"
      ]
     },
     "execution_count": 114,
     "metadata": {},
     "output_type": "execute_result"
    }
   ],
   "source": [
    "txt = \"here are some numbers 12345\"\n",
    "\n",
    "# count tells us how many substitutions to make\n",
    "pattern = r\"\\d\"\n",
    "results = re.sub(pattern, \"NA \", txt, count = 1)\n",
    "results"
   ]
  },
  {
   "cell_type": "markdown",
   "metadata": {},
   "source": [
    "### Practice"
   ]
  },
  {
   "cell_type": "code",
   "execution_count": 116,
   "metadata": {},
   "outputs": [
    {
     "name": "stdout",
     "output_type": "stream",
     "text": [
      "['[']\n",
      "[]\n",
      "[]\n",
      "[]\n"
     ]
    }
   ],
   "source": [
    "# error\n",
    "#pattern = r\"[\"\n",
    "\n",
    "pattern = r\"\\[\"\n",
    "\n",
    "for s in strings:\n",
    "    results = re.findall(pattern, s)\n",
    "    print(results)"
   ]
  },
  {
   "cell_type": "code",
   "execution_count": 117,
   "metadata": {},
   "outputs": [
    {
     "name": "stdout",
     "output_type": "stream",
     "text": [
      "['contains 2% or more of ', 'egg, nutmeg, salt, sugar]']\n",
      "['2% or more of the following ', 'egg, nutmeg, salt, sugar']\n",
      "['2% or more of the following ', 'egg, nutmeg, salt, sugar}']\n",
      "['2% or more of the following ', 'egg, nutmeg, salt, sugar)']\n"
     ]
    }
   ],
   "source": [
    "# we need to escape \\\n",
    "# because it'll think the bracket [ needs a closing ]\n",
    "# but \\[ says we want to find the actual bracket\n",
    "pattern = r\"\\[|:|{|\\(\"\n",
    "#pattern1 = r\"\\]|}|\\)\"\n",
    "\n",
    "for s in strings:\n",
    "    results = re.split(pattern, s)\n",
    "    #new_s = re.sub(pattern1, \"\", results[1])\n",
    "    print(results)"
   ]
  },
  {
   "cell_type": "code",
   "execution_count": 118,
   "metadata": {},
   "outputs": [
    {
     "name": "stdout",
     "output_type": "stream",
     "text": [
      "egg, nutmeg, salt, sugar\n",
      "egg, nutmeg, salt, sugar\n",
      "egg, nutmeg, salt, sugar\n",
      "egg, nutmeg, salt, sugar\n"
     ]
    }
   ],
   "source": [
    "# we need to escape \\\n",
    "# because it'll think the bracket [ needs a closing ]\n",
    "# but \\[ says we want to find the actual bracket\n",
    "pattern = r\"\\[|:|{|\\(\"\n",
    "pattern1 = r\"\\]|}|\\)\"\n",
    "\n",
    "for s in strings:\n",
    "    results = re.split(pattern, s)\n",
    "    new_s = re.sub(pattern1, \"\", results[1])\n",
    "    print(new_s)"
   ]
  },
  {
   "cell_type": "code",
   "execution_count": 114,
   "metadata": {},
   "outputs": [],
   "source": [
    "strings = [\n",
    "    \"contains 2% or more of [egg, nutmeg, salt, sugar]\",\n",
    "    \"2% or more of the following :egg, nutmeg, salt, sugar\",\n",
    "    \"2% or more of the following {egg, nutmeg, salt, sugar}\",\n",
    "    \"2% or more of the following (egg, nutmeg, salt, sugar)\"\n",
    "]\n",
    "\n",
    "# want to get\n",
    "# egg, nutmeg, salt, sugar"
   ]
  },
  {
   "cell_type": "code",
   "execution_count": null,
   "metadata": {},
   "outputs": [],
   "source": [
    "\"contains 2% or more of [egg, nutmeg, salt, sugar]\""
   ]
  },
  {
   "cell_type": "code",
   "execution_count": 139,
   "metadata": {},
   "outputs": [
    {
     "name": "stdout",
     "output_type": "stream",
     "text": [
      "['[egg, nutmeg, salt, sugar']\n",
      "[]\n",
      "[]\n",
      "[]\n"
     ]
    }
   ],
   "source": [
    "# [a-zA-Z] any characters\n",
    "# stopping at the white space :(\n",
    "# and the comma\n",
    "pattern = r\"\\[[a-zA-Z,\\s]+\"\n",
    "\n",
    "for s in strings:\n",
    "    results = re.findall(pattern, s)\n",
    "    print(results)"
   ]
  },
  {
   "cell_type": "code",
   "execution_count": 136,
   "metadata": {},
   "outputs": [
    {
     "name": "stdout",
     "output_type": "stream",
     "text": [
      "[]\n",
      "[]\n",
      "['{egg, nutmeg, salt, sugar}']\n",
      "[]\n"
     ]
    }
   ],
   "source": [
    "# [a-zA-Z] any characters\n",
    "# stopping at the white space :(\n",
    "# and the comma\n",
    "pattern = r\"{[a-zA-Z|,\\s]+}\"\n",
    "\n",
    "for s in strings:\n",
    "    results = re.findall(pattern, s)\n",
    "    print(results)"
   ]
  },
  {
   "cell_type": "code",
   "execution_count": 135,
   "metadata": {},
   "outputs": [
    {
     "name": "stdout",
     "output_type": "stream",
     "text": [
      "egg, nutmeg, salt, sugar\n",
      "egg, nutmeg, salt, sugar\n",
      "egg, nutmeg, salt, sugar\n",
      "egg, nutmeg, salt, sugar\n"
     ]
    }
   ],
   "source": [
    "# [a-zA-Z] any characters\n",
    "# stopping at the white space :(\n",
    "# and the comma\n",
    "pattern = r\"\\[[a-zA-Z|,\\s]+\\]|:[a-zA-Z|,\\s]+|{[a-zA-Z|,\\s]+}|\\([a-zA-Z|,\\s]+\\)\"\n",
    "pattern1 = r\"[\\[\\]\\(\\){}:]\"\n",
    "\n",
    "for s in strings:\n",
    "    results = re.findall(pattern, s)\n",
    "    new_s = re.sub(pattern1, \"\", results[0])\n",
    "    print(new_s)"
   ]
  },
  {
   "cell_type": "code",
   "execution_count": 147,
   "metadata": {},
   "outputs": [],
   "source": [
    "strings = [\n",
    "    \"contains 2% or more of [egg, nutmeg, salt, sugar]\",\n",
    "    \"2% or more of the following :egg, nutmeg, salt, sugar:\",\n",
    "    \"2% or more of the following {egg, nutmeg, salt, sugar}\",\n",
    "    \"2% or more of the following (egg, nutmeg, salt, sugar)\"\n",
    "]\n",
    "\n",
    "# want to get\n",
    "# egg, nutmeg, salt, sugar"
   ]
  },
  {
   "cell_type": "code",
   "execution_count": 148,
   "metadata": {},
   "outputs": [
    {
     "name": "stdout",
     "output_type": "stream",
     "text": [
      "contains 2% or more of (egg, nutmeg, salt, sugar)\n",
      "2% or more of the following (egg, nutmeg, salt, sugar(\n",
      "2% or more of the following (egg, nutmeg, salt, sugar)\n",
      "2% or more of the following (egg, nutmeg, salt, sugar)\n"
     ]
    }
   ],
   "source": [
    "# [a-zA-Z] any characters\n",
    "# stopping at the white space :(\n",
    "# and the comma\n",
    "# seperates out everything between our brackets\n",
    "# curly brackets and parentheses\n",
    "pattern = r\"[\\[\\({:]\"\n",
    "pattern1 = r\"[\\]\\)}]\"\n",
    "\n",
    "for s in strings:\n",
    "    results = re.sub(pattern, \"(\", s)\n",
    "    results = re.sub(pattern1, \")\", results)\n",
    "    print(results)"
   ]
  },
  {
   "cell_type": "code",
   "execution_count": 135,
   "metadata": {},
   "outputs": [
    {
     "name": "stdout",
     "output_type": "stream",
     "text": [
      "['here is some text ', 'we want the text in the middle', '']\n",
      "['here is some text ', 'we want the text in the middle', '']\n",
      "['here is some text ', 'we want the text in the middle', '']\n"
     ]
    }
   ],
   "source": [
    "pattern = r\"[\\[\\]\\(\\){}:]\"\n",
    "\n",
    "for s in strings:\n",
    "    results = re.split(pattern, s)\n",
    "    print(results)"
   ]
  },
  {
   "cell_type": "code",
   "execution_count": 134,
   "metadata": {},
   "outputs": [
    {
     "name": "stdout",
     "output_type": "stream",
     "text": [
      "we want the text in the middle\n",
      "we want the text in the middle\n",
      "we want the text in the middle\n"
     ]
    }
   ],
   "source": [
    "pattern = r\"[\\[\\]\\(\\){}:]\"\n",
    "\n",
    "for s in strings:\n",
    "    results = re.split(pattern, s)\n",
    "    print(results[1])"
   ]
  },
  {
   "cell_type": "code",
   "execution_count": 133,
   "metadata": {},
   "outputs": [],
   "source": [
    "strings = [\n",
    "    \"here is some text [we want the text in the middle]\",\n",
    "    \"here is some text (we want the text in the middle)\",\n",
    "    \"here is some text {we want the text in the middle}\",\n",
    "]"
   ]
  },
  {
   "cell_type": "code",
   "execution_count": 136,
   "metadata": {},
   "outputs": [
    {
     "name": "stdout",
     "output_type": "stream",
     "text": [
      " [we want the text in the middle]\n",
      " (we want the text in the middle]\n",
      " (we want the text in the middle)\n",
      "\n",
      "\n",
      " (we want the text in the middle)\n",
      " (we want the text in the middle)\n",
      " (we want the text in the middle)\n",
      "\n",
      "\n",
      " {we want the text in the middle}\n",
      " (we want the text in the middle}\n",
      " (we want the text in the middle)\n",
      "\n",
      "\n"
     ]
    }
   ],
   "source": [
    "pattern = r\"here is some text\"\n",
    "\n",
    "for s in strings:\n",
    "    new_s = re.sub(pattern, \"\", s)\n",
    "    print(new_s)\n",
    "    new_s = re.sub(r\"[\\[{]\", \"(\", new_s)\n",
    "    print(new_s)\n",
    "    new_s = re.sub(r\"[\\]}]\", \")\", new_s)\n",
    "    print(new_s)\n",
    "    print(\"\\n\")"
   ]
  },
  {
   "cell_type": "code",
   "execution_count": 151,
   "metadata": {},
   "outputs": [
    {
     "data": {
      "text/plain": [
       "['?', '.', ',', ',', '.', '?']"
      ]
     },
     "execution_count": 151,
     "metadata": {},
     "output_type": "execute_result"
    }
   ],
   "source": [
    "s = \"all the punctuation ?.wee want to , to, away. ?\"\n",
    "\n",
    "pattern = r\"[^a-zA-Z\\s\\d]\"\n",
    "result = re.findall(pattern, s)\n",
    "#result = re.sub(pattern, \"\", s)\n",
    "result"
   ]
  },
  {
   "cell_type": "code",
   "execution_count": 139,
   "metadata": {},
   "outputs": [],
   "source": [
    "strings = [\n",
    "    \"contains 2% or more of [egg, nutmeg, salt, sugar]\",\n",
    "    \"2% or more of the following :egg, nutmeg, salt, sugar\",\n",
    "    \"2% or more of the following {egg, nutmeg, salt, sugar}\",\n",
    "    \"2% or more of the following (egg, nutmeg, salt, sugar)\"\n",
    "]"
   ]
  },
  {
   "cell_type": "code",
   "execution_count": 140,
   "metadata": {},
   "outputs": [
    {
     "name": "stdout",
     "output_type": "stream",
     "text": [
      "0 [egg, nutmeg, salt, sugar]\n"
     ]
    }
   ],
   "source": [
    "p = r\"\\[[a-zA-Z|,\\s]+\\]\"\n",
    "for idx,s in enumerate(strings):\n",
    "    matches = re.search(p,s)\n",
    "    if matches:\n",
    "        item = matches.group()\n",
    "        print(idx, item)"
   ]
  },
  {
   "cell_type": "code",
   "execution_count": 141,
   "metadata": {},
   "outputs": [
    {
     "name": "stdout",
     "output_type": "stream",
     "text": [
      "0 [egg, nutmeg, salt, sugar]\n",
      "1 :egg, nutmeg, salt, sugar\n",
      "2 {egg, nutmeg, salt, sugar}\n",
      "3 (egg, nutmeg, salt, sugar)\n"
     ]
    }
   ],
   "source": [
    "p = r\"\\[[a-zA-Z|,\\s]+\\]|:[a-zA-Z|,\\s]+|{[a-zA-Z|,\\s]+}|\\([a-zA-Z|,\\s]+\\)\"\n",
    "for idx,s in enumerate(strings):\n",
    "    matches = re.search(p,s)\n",
    "    if matches:\n",
    "        item = matches.group()\n",
    "        print(idx, item)"
   ]
  },
  {
   "cell_type": "code",
   "execution_count": 167,
   "metadata": {},
   "outputs": [],
   "source": [
    "dates = [\n",
    "    \"this is the dates 05/26/1988\",\n",
    "    \"date 1 is 04/25/1989\",\n",
    "    \"01/24/2019\"\n",
    "]"
   ]
  },
  {
   "cell_type": "code",
   "execution_count": 165,
   "metadata": {},
   "outputs": [
    {
     "name": "stdout",
     "output_type": "stream",
     "text": [
      "['\\\\']\n"
     ]
    }
   ],
   "source": [
    "txt = r\"\\()\"\n",
    "pattern = r\"\\\\\"\n",
    "\n",
    "results = re.findall(pattern, txt)\n",
    "print(results)"
   ]
  },
  {
   "cell_type": "code",
   "execution_count": 170,
   "metadata": {},
   "outputs": [
    {
     "name": "stdout",
     "output_type": "stream",
     "text": [
      "['05/26/1988']\n",
      "['04/25/1989']\n",
      "['01/24/2019']\n"
     ]
    }
   ],
   "source": [
    "expression = r\"\\d{2}/\\d{2}/\\d{4}\"\n",
    "for date in dates:\n",
    "    results = re.findall(expression, date)\n",
    "    print(results)"
   ]
  },
  {
   "cell_type": "code",
   "execution_count": 145,
   "metadata": {},
   "outputs": [
    {
     "name": "stdout",
     "output_type": "stream",
     "text": [
      "[('05', '26', '1988')]\n",
      "[('04', '25', '1989')]\n",
      "[('01', '24', '2019')]\n"
     ]
    }
   ],
   "source": [
    "expression = r\"(\\d{2})/(\\d{2})/(\\d{4})\"\n",
    "for date in dates:\n",
    "    results = re.findall(expression, date)\n",
    "    print(results)"
   ]
  },
  {
   "cell_type": "code",
   "execution_count": 146,
   "metadata": {},
   "outputs": [
    {
     "name": "stdout",
     "output_type": "stream",
     "text": [
      "[' email', ' is', ' craft1']\n",
      "[' email', ' is', ' craft1brian']\n",
      "[' is', ' craft1']\n"
     ]
    }
   ],
   "source": [
    "emails = [\n",
    "    \"my email is craft1.brian@gmail.com\",\n",
    "    \"the email is craft1brian@gmail.com\",\n",
    "    \"eemail is craft1.brian@yahoo.com\"\n",
    "]\n",
    "\n",
    "pattern = r\"\\s\\w+\"\n",
    "for e in emails:\n",
    "    results = re.findall(pattern, e)\n",
    "    print(results)"
   ]
  },
  {
   "cell_type": "code",
   "execution_count": 149,
   "metadata": {},
   "outputs": [
    {
     "name": "stdout",
     "output_type": "stream",
     "text": [
      "['my', 'email', 'is', 'craft1.brian', 'gmail.com']\n",
      "['the', 'email', 'is', 'craft1brian', 'gmail.com']\n",
      "['eemail', 'is', 'craft1.brian', 'yahoo.com']\n"
     ]
    }
   ],
   "source": [
    "emails = [\n",
    "    \"my email is craft1.brian@gmail.com\",\n",
    "    \"the email is craft1brian@gmail.com\",\n",
    "    \"eemail is craft1.brian@yahoo.com\"\n",
    "]\n",
    "\n",
    "# word or period, undetermined amount\n",
    "# will stop once we hit white space\n",
    "pattern = r\"[\\w|.]+\"\n",
    "for e in emails:\n",
    "    results = re.findall(pattern, e)\n",
    "    print(results)"
   ]
  },
  {
   "cell_type": "code",
   "execution_count": 150,
   "metadata": {},
   "outputs": [
    {
     "name": "stdout",
     "output_type": "stream",
     "text": [
      "['craft1.brian@']\n",
      "['craft1brian@']\n",
      "['craft1.brian@']\n"
     ]
    }
   ],
   "source": [
    "emails = [\n",
    "    \"my email is craft1.brian@gmail.com\",\n",
    "    \"the email is craft1brian@gmail.com\",\n",
    "    \"eemail is craft1.brian@yahoo.com\"\n",
    "]\n",
    "# word or period, undetermined amount and @ sign\n",
    "# will stop once we hit white space\n",
    "pattern = r\"[\\w|.]+@\"\n",
    "for e in emails:\n",
    "    results = re.findall(pattern, e)\n",
    "    print(results)"
   ]
  },
  {
   "cell_type": "code",
   "execution_count": 151,
   "metadata": {},
   "outputs": [
    {
     "name": "stdout",
     "output_type": "stream",
     "text": [
      "['craft1.brian@gmail']\n",
      "['craft1brian@gmail']\n",
      "['craft1.brian@yahoo']\n"
     ]
    }
   ],
   "source": [
    "emails = [\n",
    "    \"my email is craft1.brian@gmail.com\",\n",
    "    \"the email is craft1brian@gmail.com\",\n",
    "    \"eemail is craft1.brian@yahoo.com\"\n",
    "]\n",
    "# word or period, undetermined amount and @ and somee\n",
    "# number of letters\n",
    "pattern = r\"[\\w|.]+@\\w+\"\n",
    "for e in emails:\n",
    "    results = re.findall(pattern, e)\n",
    "    print(results)"
   ]
  },
  {
   "cell_type": "code",
   "execution_count": 171,
   "metadata": {},
   "outputs": [],
   "source": [
    "from itertools import chain"
   ]
  },
  {
   "cell_type": "code",
   "execution_count": 172,
   "metadata": {},
   "outputs": [
    {
     "data": {
      "text/plain": [
       "['craft1.brian@gmail.com', 'craft1brian@gmail.com', 'craft1.brian@yahoo.com']"
      ]
     },
     "execution_count": 172,
     "metadata": {},
     "output_type": "execute_result"
    }
   ],
   "source": [
    "f = readlines()\n",
    "# word or period, undetermined amount and @ and somee\n",
    "# number of letters follow by .com\n",
    "pattern = r\"[\\w|.]+@\\w+.com\"\n",
    "\n",
    "def searcher(item):\n",
    "    return re.findall(item[1], titem[0])\n",
    "\n",
    "iterable = [[email, pattern] for email in emails]\n",
    "pool = Pool()\n",
    "results = pool.pam(searcher, iterable)\n",
    "chain.from_iterable(results)\n",
    "\n",
    "#r = list(chain.from_iterable([re.findall(pattern, e) for e in emails]))\n",
    "#r"
   ]
  },
  {
   "cell_type": "code",
   "execution_count": 173,
   "metadata": {},
   "outputs": [
    {
     "data": {
      "text/plain": [
       "[['craft1.brian@gmail.com'],\n",
       " ['craft1brian@gmail.com'],\n",
       " ['craft1.brian@yahoo.com']]"
      ]
     },
     "execution_count": 173,
     "metadata": {},
     "output_type": "execute_result"
    }
   ],
   "source": [
    "[re.findall(pattern, e) for e in emails]"
   ]
  },
  {
   "cell_type": "code",
   "execution_count": null,
   "metadata": {},
   "outputs": [],
   "source": []
  }
 ],
 "metadata": {
  "kernelspec": {
   "display_name": "Python 3",
   "language": "python",
   "name": "python3"
  },
  "language_info": {
   "codemirror_mode": {
    "name": "ipython",
    "version": 3
   },
   "file_extension": ".py",
   "mimetype": "text/x-python",
   "name": "python",
   "nbconvert_exporter": "python",
   "pygments_lexer": "ipython3",
   "version": "3.7.4"
  }
 },
 "nbformat": 4,
 "nbformat_minor": 2
}
